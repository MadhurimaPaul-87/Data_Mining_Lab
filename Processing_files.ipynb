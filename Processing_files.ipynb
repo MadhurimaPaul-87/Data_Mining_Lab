{
  "nbformat": 4,
  "nbformat_minor": 0,
  "metadata": {
    "colab": {
      "provenance": []
    },
    "kernelspec": {
      "name": "python3",
      "display_name": "Python 3"
    },
    "language_info": {
      "name": "python"
    }
  },
  "cells": [
    {
      "cell_type": "markdown",
      "source": [
        "# **Read File**\n",
        "By default the read() method returns the whole text, but you can also specify how many characters you want to return:"
      ],
      "metadata": {
        "id": "1w0iLZDZhswX"
      }
    },
    {
      "cell_type": "code",
      "execution_count": 1,
      "metadata": {
        "colab": {
          "base_uri": "https://localhost:8080/"
        },
        "id": "84z0TGetgtTJ",
        "outputId": "a9161ee0-d6a5-40c8-978e-3f3c434fb403"
      },
      "outputs": [
        {
          "output_type": "stream",
          "name": "stdout",
          "text": [
            "Hello\n"
          ]
        }
      ],
      "source": [
        "#Return the 5 first characters of the file:\n",
        "\n",
        "f = open(\"/content/demofile.txt\", \"r\")\n",
        "print(f.read(5))"
      ]
    },
    {
      "cell_type": "code",
      "source": [
        "# Python code to illustrate with()\n",
        "with open(\"demofile.txt\") as file:\n",
        "\tdata = file.read(5)\n",
        "print(data)\n"
      ],
      "metadata": {
        "colab": {
          "base_uri": "https://localhost:8080/"
        },
        "id": "yw0Yc9Xa9Gfj",
        "outputId": "22ce9c08-a27f-4c35-8cdd-1b175ef7c319"
      },
      "execution_count": 2,
      "outputs": [
        {
          "output_type": "stream",
          "name": "stdout",
          "text": [
            "Hello\n"
          ]
        }
      ]
    },
    {
      "cell_type": "code",
      "source": [
        "# You can return one line by using the readline() method\n",
        "\n",
        "f = open(\"demofile.txt\", \"r\")\n",
        "print(f.readline())"
      ],
      "metadata": {
        "colab": {
          "base_uri": "https://localhost:8080/"
        },
        "id": "_Gl8DUZMizbE",
        "outputId": "e3898be0-6d3c-40f6-d070-3dfddc576944"
      },
      "execution_count": 3,
      "outputs": [
        {
          "output_type": "stream",
          "name": "stdout",
          "text": [
            "Hello! Welcome to demofile.txt\n",
            "\n"
          ]
        }
      ]
    },
    {
      "cell_type": "code",
      "source": [
        "#Read two lines of the file:\n",
        "\n",
        "f = open(\"demofile.txt\", \"r\")\n",
        "print(f.readline())\n",
        "print(f.readline())"
      ],
      "metadata": {
        "colab": {
          "base_uri": "https://localhost:8080/"
        },
        "id": "rTtDwGw7jGBD",
        "outputId": "a8468ca4-f3fb-4ba3-b790-7d454bf31ade"
      },
      "execution_count": 4,
      "outputs": [
        {
          "output_type": "stream",
          "name": "stdout",
          "text": [
            "Hello! Welcome to demofile.txt\n",
            "\n",
            "This file is for testing purposes.\n",
            "\n"
          ]
        }
      ]
    },
    {
      "cell_type": "code",
      "source": [
        "# Loop through the file line by line:\n",
        "\n",
        "f = open(\"demofile.txt\", \"r\")\n",
        "for x in f:\n",
        "  print(x)"
      ],
      "metadata": {
        "colab": {
          "base_uri": "https://localhost:8080/"
        },
        "id": "eEpJX09StLxJ",
        "outputId": "ca967621-7901-4ce7-d145-ef31f3e58bee"
      },
      "execution_count": 5,
      "outputs": [
        {
          "output_type": "stream",
          "name": "stdout",
          "text": [
            "Hello! Welcome to demofile.txt\n",
            "\n",
            "This file is for testing purposes.\n",
            "\n",
            "Good Luck!\n"
          ]
        }
      ]
    },
    {
      "cell_type": "code",
      "source": [
        "# Close the file when you are finish with it:\n",
        "\n",
        "f = open(\"demofile.txt\", \"r\")\n",
        "print(f.readline())\n",
        "f.close()"
      ],
      "metadata": {
        "colab": {
          "base_uri": "https://localhost:8080/"
        },
        "id": "YtudR9Euttdw",
        "outputId": "108badd0-df0d-4412-c77e-75f402a64c50"
      },
      "execution_count": 6,
      "outputs": [
        {
          "output_type": "stream",
          "name": "stdout",
          "text": [
            "Hello! Welcome to demofile.txt\n",
            "\n"
          ]
        }
      ]
    },
    {
      "cell_type": "markdown",
      "source": [
        "# **File Write**"
      ],
      "metadata": {
        "id": "wKLpj3Mjwyaf"
      }
    },
    {
      "cell_type": "markdown",
      "source": [
        "\"a\" - Append - will append to the end of the file\n",
        "\n",
        "\"w\" - Write - will overwrite any existing content"
      ],
      "metadata": {
        "id": "04Obx-L2wgzh"
      }
    },
    {
      "cell_type": "code",
      "source": [
        "f = open(\"demofile2.txt\", \"a\")\n",
        "f.write(\"Now the file has more content!\")\n",
        "f.close()"
      ],
      "metadata": {
        "id": "Njq-DbiIwhts"
      },
      "execution_count": 7,
      "outputs": []
    },
    {
      "cell_type": "code",
      "source": [
        "#open and read the file after the appending:\n",
        "f = open(\"demofile2.txt\", \"r\")\n",
        "print(f.read())"
      ],
      "metadata": {
        "colab": {
          "base_uri": "https://localhost:8080/"
        },
        "id": "ysrA1Qw6yTsg",
        "outputId": "b3b7e588-3ad3-46a0-9a99-fc512e5570c3"
      },
      "execution_count": 8,
      "outputs": [
        {
          "output_type": "stream",
          "name": "stdout",
          "text": [
            "Now the file has more content!\n"
          ]
        }
      ]
    },
    {
      "cell_type": "code",
      "source": [
        "# Python code to illustrate with() alongwith write()\n",
        "with open(\"demofile2.txt\", \"w\") as f:\n",
        "\tf.write(\"Hello World!!!\")\n",
        "f.close()"
      ],
      "metadata": {
        "id": "99pmCa-f9m-N"
      },
      "execution_count": 12,
      "outputs": []
    },
    {
      "cell_type": "code",
      "source": [
        "#open and read the file after the appending:\n",
        "f = open(\"demofile2.txt\", \"r\")\n",
        "print(f.read())"
      ],
      "metadata": {
        "colab": {
          "base_uri": "https://localhost:8080/"
        },
        "id": "d54JCacIVJyO",
        "outputId": "4e52a468-a020-4fba-fc70-5a1365304e7a"
      },
      "execution_count": 13,
      "outputs": [
        {
          "output_type": "stream",
          "name": "stdout",
          "text": [
            "Hello World!!!\n"
          ]
        }
      ]
    },
    {
      "cell_type": "code",
      "source": [
        "# Open the file \"demofile3.txt\" and overwrite the content:\n",
        "\n",
        "f = open(\"demofile3.txt\", \"w\")\n",
        "f.write(\"Woops! I have deleted the content!\")\n",
        "f.close()"
      ],
      "metadata": {
        "id": "WZQXnzR9yUcO"
      },
      "execution_count": 14,
      "outputs": []
    },
    {
      "cell_type": "code",
      "source": [
        "#open and read the file after the overwriting:\n",
        "f = open(\"demofile3.txt\", \"r\")\n",
        "print(f.read())"
      ],
      "metadata": {
        "colab": {
          "base_uri": "https://localhost:8080/"
        },
        "id": "-_fRNIDKzNNo",
        "outputId": "1fe6b219-d9b5-463c-d690-636cc6bfbcc9"
      },
      "execution_count": 15,
      "outputs": [
        {
          "output_type": "stream",
          "name": "stdout",
          "text": [
            "Woops! I have deleted the content!\n"
          ]
        }
      ]
    },
    {
      "cell_type": "markdown",
      "source": [
        "# **Create a New File**"
      ],
      "metadata": {
        "id": "eCmZaGYHzVBX"
      }
    },
    {
      "cell_type": "code",
      "source": [
        "# Create a file called \"myfile.txt\":\n",
        "\n",
        "f = open(\"myfile.txt\", \"x\")"
      ],
      "metadata": {
        "id": "T7QDuxmmzPs0"
      },
      "execution_count": 16,
      "outputs": []
    },
    {
      "cell_type": "markdown",
      "source": [
        "# **Delete File**"
      ],
      "metadata": {
        "id": "cRo0UB8SzzK_"
      }
    },
    {
      "cell_type": "code",
      "source": [
        "# Remove the file \"demofile.txt\":\n",
        "\n",
        "import os\n",
        "os.remove(\"demofile.txt\")"
      ],
      "metadata": {
        "id": "vUFjTWNEz1CJ"
      },
      "execution_count": null,
      "outputs": []
    },
    {
      "cell_type": "markdown",
      "source": [
        "# **split() using file handling**"
      ],
      "metadata": {
        "id": "faTHYxM6-yqh"
      }
    },
    {
      "cell_type": "code",
      "source": [
        "# Python code to illustrate split() function\n",
        "with open(\"demofile2.txt\", \"r\") as file:\n",
        "\tdata = file.readlines()\n",
        "\tfor line in data:\n",
        "\t\tword = line.split()\n",
        "\t\tprint (word)\n"
      ],
      "metadata": {
        "colab": {
          "base_uri": "https://localhost:8080/"
        },
        "id": "3oNQfP-Y-0ey",
        "outputId": "17ef02df-69a5-4b55-8a76-9257c3327339"
      },
      "execution_count": 17,
      "outputs": [
        {
          "output_type": "stream",
          "name": "stdout",
          "text": [
            "['Hello', 'World!!!']\n"
          ]
        }
      ]
    },
    {
      "cell_type": "code",
      "source": [
        "# Python program to demonstrate\n",
        "# writing to file\n",
        "\n",
        "# Opening a file\n",
        "file1 = open('myfile.txt', 'w')\n",
        "L = [\"This is Delhi \\n\", \"This is Paris \\n\", \"This is London \\n\"]\n",
        "s = \"Hello\\n\"\n",
        "\n",
        "# Writing a string to file\n",
        "file1.write(s)\n",
        "\n",
        "# Writing multiple strings\n",
        "# at a time\n",
        "file1.writelines(L)\n",
        "\n",
        "# Closing file\n",
        "file1.close()\n",
        "\n",
        "# Checking if the data is\n",
        "# written to file or not\n",
        "file1 = open('myfile.txt', 'r')\n",
        "print(file1.read())\n",
        "file1.close()\n"
      ],
      "metadata": {
        "colab": {
          "base_uri": "https://localhost:8080/"
        },
        "id": "u1rzSwAaBJqx",
        "outputId": "7aaa1fd7-bbf7-4a96-a992-aa8f4618548c"
      },
      "execution_count": 18,
      "outputs": [
        {
          "output_type": "stream",
          "name": "stdout",
          "text": [
            "Hello\n",
            "This is Delhi \n",
            "This is Paris \n",
            "This is London \n",
            "\n"
          ]
        }
      ]
    },
    {
      "cell_type": "code",
      "source": [
        "f= open('file.txt','w')\n",
        "f.write('Hello\\n')\n",
        "f.close()\n",
        "\n",
        "f = open('file.txt','r')\n",
        "print(f.readline())\n",
        "f.close()\n",
        "\n",
        "f= open('file.txt','a')\n",
        "f.write('World\\n')\n",
        "f.close()\n",
        "\n",
        "f = open('file.txt','r')\n",
        "print(f.read(11))\n",
        "f.close()"
      ],
      "metadata": {
        "colab": {
          "base_uri": "https://localhost:8080/"
        },
        "id": "K7H8diTOBfir",
        "outputId": "740a7f57-7f8d-4347-9b2e-a42bd28ec511"
      },
      "execution_count": 19,
      "outputs": [
        {
          "output_type": "stream",
          "name": "stdout",
          "text": [
            "Hello\n",
            "\n",
            "Hello\n",
            "World\n"
          ]
        }
      ]
    }
  ]
}