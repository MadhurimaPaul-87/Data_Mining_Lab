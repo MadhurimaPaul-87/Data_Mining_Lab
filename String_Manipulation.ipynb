{
  "nbformat": 4,
  "nbformat_minor": 0,
  "metadata": {
    "colab": {
      "provenance": []
    },
    "kernelspec": {
      "name": "python3",
      "display_name": "Python 3"
    },
    "language_info": {
      "name": "python"
    }
  },
  "cells": [
    {
      "cell_type": "markdown",
      "source": [
        "# **Create a String**"
      ],
      "metadata": {
        "id": "Jr6yXG3Y8LBh"
      }
    },
    {
      "cell_type": "markdown",
      "source": [
        "To create a string with given characters, you can assign the characters to a variable after enclosing them in double quotes or single quotes as shown below."
      ],
      "metadata": {
        "id": "YjQjbUMs8TXy"
      }
    },
    {
      "cell_type": "code",
      "execution_count": 1,
      "metadata": {
        "colab": {
          "base_uri": "https://localhost:8080/"
        },
        "id": "D8AAms2K7dCy",
        "outputId": "e36aebcc-a1c3-4bb6-bb83-81334ebb0e52"
      },
      "outputs": [
        {
          "output_type": "stream",
          "name": "stdout",
          "text": [
            "Hello World\n"
          ]
        }
      ],
      "source": [
        "word = \"Hello World\"\n",
        "print(word)"
      ]
    },
    {
      "cell_type": "markdown",
      "source": [
        "# **Access characters in a String**\n",
        "\n",
        "To access characters of a string, we can use the python indexing operator [ ] i.e. square brackets to access characters in a string as shown below."
      ],
      "metadata": {
        "id": "0qtBrx5w8gdx"
      }
    },
    {
      "cell_type": "code",
      "source": [
        "word = \"Hello World\"\n",
        "letter=word[0]\n",
        "print(letter)"
      ],
      "metadata": {
        "colab": {
          "base_uri": "https://localhost:8080/"
        },
        "id": "pcymbpIX8oYw",
        "outputId": "89d102ec-15ca-4870-9a84-e5d929e8e726"
      },
      "execution_count": 2,
      "outputs": [
        {
          "output_type": "stream",
          "name": "stdout",
          "text": [
            "H\n"
          ]
        }
      ]
    },
    {
      "cell_type": "markdown",
      "source": [
        "# **Find Length of a String**\n",
        "\n",
        "To find the length of a string, we can use the len() function. The len() function takes a string as input argument and returns the length of the string as shown below."
      ],
      "metadata": {
        "id": "dAJZ3idi822Q"
      }
    },
    {
      "cell_type": "code",
      "source": [
        "word = \"Hello World\"\n",
        "\n",
        "print(len(word))"
      ],
      "metadata": {
        "colab": {
          "base_uri": "https://localhost:8080/"
        },
        "id": "imBTz2Xk847f",
        "outputId": "9533a97b-2c9b-4eb8-fad3-de518cc00f74"
      },
      "execution_count": 3,
      "outputs": [
        {
          "output_type": "stream",
          "name": "stdout",
          "text": [
            "11\n"
          ]
        }
      ]
    },
    {
      "cell_type": "markdown",
      "source": [
        "# **Find a Character in a String**\n",
        "To find the index of a character in a string, we can use the find() method. The find() method, when invoked on a string, takes the character as its input argument and returns the index of first occurrence of the character as shown below."
      ],
      "metadata": {
        "id": "CYsXF3ND9LWf"
      }
    },
    {
      "cell_type": "code",
      "source": [
        "word = \"Hello World\" \n",
        "print(word.find(\"H\")) # find the word H in the string"
      ],
      "metadata": {
        "colab": {
          "base_uri": "https://localhost:8080/"
        },
        "id": "lw9m_DfI-M0d",
        "outputId": "8a6da766-e18c-4f01-d118-d7fc2e2eca74"
      },
      "execution_count": 5,
      "outputs": [
        {
          "output_type": "stream",
          "name": "stdout",
          "text": [
            "0\n"
          ]
        }
      ]
    },
    {
      "cell_type": "markdown",
      "source": [
        "You can also find the index of a character or a substring in a string using the index() method. The index() method, when invoked on a string, takes a character or substring as its input argument and returns the index of first occurrence of character or substring as shown below."
      ],
      "metadata": {
        "id": "0j_SycAKCOcP"
      }
    },
    {
      "cell_type": "code",
      "source": [
        "word = \"Hello World\"\n",
        "print (word.index(\"World\")) # find the letters World in the string"
      ],
      "metadata": {
        "colab": {
          "base_uri": "https://localhost:8080/"
        },
        "id": "b4xnU87DCPL9",
        "outputId": "e34e05b5-52c8-435a-9e63-a1b086699050"
      },
      "execution_count": 7,
      "outputs": [
        {
          "output_type": "stream",
          "name": "stdout",
          "text": [
            "6\n"
          ]
        }
      ]
    },
    {
      "cell_type": "markdown",
      "source": [
        "# **Count the number of spaces in a string**\n",
        "To count the number of spaces in a string, you can pass the space character to the count() method as shown below."
      ],
      "metadata": {
        "id": "NdnVMd-TChgP"
      }
    },
    {
      "cell_type": "code",
      "source": [
        "s = \"Count, the number of spaces\"\n",
        "\n",
        "print (s.count(' '))"
      ],
      "metadata": {
        "colab": {
          "base_uri": "https://localhost:8080/"
        },
        "id": "X4NYDCIiCju8",
        "outputId": "b9233820-a91e-457e-a2c2-f7138ed4c4ed"
      },
      "execution_count": 8,
      "outputs": [
        {
          "output_type": "stream",
          "name": "stdout",
          "text": [
            "4\n"
          ]
        }
      ]
    },
    {
      "cell_type": "markdown",
      "source": [
        "To find the frequency of a character in the string, we can use the count() method. "
      ],
      "metadata": {
        "id": "mb5LuuBZBsDZ"
      }
    },
    {
      "cell_type": "code",
      "source": [
        "word = \"Hello World\"\n",
        "print(word.count('l')) # count how many times l is in the string"
      ],
      "metadata": {
        "colab": {
          "base_uri": "https://localhost:8080/"
        },
        "id": "kbjl0dbWBxFb",
        "outputId": "85f3da1c-c435-4aec-8cd6-a7209137d38c"
      },
      "execution_count": 6,
      "outputs": [
        {
          "output_type": "stream",
          "name": "stdout",
          "text": [
            "3\n"
          ]
        }
      ]
    },
    {
      "cell_type": "markdown",
      "source": [
        "# **String Slicing**\n",
        "To perform string manipulation in Python, you can use the syntax string_name[ start_index : end_index ] to get a substring of a string. Here, the slicing operation gives us a substring containing characters from start_index to end_index-1 of the string string_name.\n",
        "\n"
      ],
      "metadata": {
        "id": "PpQBcRTzDNHP"
      }
    },
    {
      "cell_type": "code",
      "source": [
        "#Keep in mind that python, as many other languages, starts to count from 0!!\n",
        "\n",
        "word = \"Hello World\"\n",
        "\n",
        "print (word[0]) #get one char of the word\n",
        "print (word[0:1]) #get one char of the word (same as above)\n",
        "print (word[0:3]) #get the first three char\n",
        "print (word[:3]) #get the first three char\n",
        "print (word[-3:]) #get the last three char\n",
        "print (word[3:]) #get all but the three first char\n",
        "print (word[:-3]) #get all but the three last character"
      ],
      "metadata": {
        "colab": {
          "base_uri": "https://localhost:8080/"
        },
        "id": "_JU20Mx1DXZ5",
        "outputId": "04b2f383-cbb9-4d4e-f8a9-9fdd156d9e5f"
      },
      "execution_count": 9,
      "outputs": [
        {
          "output_type": "stream",
          "name": "stdout",
          "text": [
            "H\n",
            "H\n",
            "Hel\n",
            "Hel\n",
            "rld\n",
            "lo World\n",
            "Hello Wo\n"
          ]
        }
      ]
    },
    {
      "cell_type": "markdown",
      "source": [
        "# **Split Strings in Python**\n",
        "You can split a string using the split() method to perform string manipulation in Python. The split() method, when invoked on a string, takes a character as its input argument. After execution, it splits the string at the specified character and returns a list of substrings as shown below."
      ],
      "metadata": {
        "id": "QIV1lWdtEW6w"
      }
    },
    {
      "cell_type": "code",
      "source": [
        "word = \"Hello World\"\n",
        "\n",
        "print(word.split(' ')) # Split on whitespace"
      ],
      "metadata": {
        "colab": {
          "base_uri": "https://localhost:8080/"
        },
        "id": "FR2ZvXL7EBrX",
        "outputId": "a1ab8dc6-003a-4073-9ac9-8e60709619e0"
      },
      "execution_count": 10,
      "outputs": [
        {
          "output_type": "stream",
          "name": "stdout",
          "text": [
            "['Hello', 'World']\n"
          ]
        }
      ]
    },
    {
      "cell_type": "markdown",
      "source": [
        "# **Check if a string Startswith or Endswith a character**\n",
        "To check if a string starts with or ends with a specific character, you can use the startswith() or the endswith() method respectively.\n",
        "\n",
        "The startswith() method, when invoked on a string, takes a character as input argument. If the string starts with the given character, it returns True. Otherwise, it returns False.\n",
        "\n",
        "The endswith() method, when invoked on a string, takes a character as input argument. If the string ends with the given character, it returns True. Otherwise, it returns False. You can observe this in the following example."
      ],
      "metadata": {
        "id": "OA8hPWa9FqRP"
      }
    },
    {
      "cell_type": "code",
      "source": [
        "word = \"hello world\"\n",
        "\n",
        "print(word.startswith(\"H\"))\n",
        "print(word.endswith(\"d\"))\n",
        "print(word.endswith(\"w\"))\n"
      ],
      "metadata": {
        "colab": {
          "base_uri": "https://localhost:8080/"
        },
        "id": "dfqMFU_tF0aQ",
        "outputId": "b5bb2fd6-ef8e-408d-a14f-bf03f522fad4"
      },
      "execution_count": 11,
      "outputs": [
        {
          "output_type": "stream",
          "name": "stdout",
          "text": [
            "False\n",
            "True\n",
            "False\n"
          ]
        }
      ]
    },
    {
      "cell_type": "markdown",
      "source": [
        "# **Repeat Strings Multiple Times**\n",
        "You can repeat a string multiple times using the multiplication operator. When we multiply any given string or character by a positive number N, it is repeated N times. "
      ],
      "metadata": {
        "id": "h8ZXPf03GpXG"
      }
    },
    {
      "cell_type": "code",
      "source": [
        "print (\".\" * 10) # prints ten dots"
      ],
      "metadata": {
        "colab": {
          "base_uri": "https://localhost:8080/"
        },
        "id": "Ta8GiRPJGtb_",
        "outputId": "89c856f5-2067-41db-d5df-807ad9ef48cd"
      },
      "execution_count": 12,
      "outputs": [
        {
          "output_type": "stream",
          "name": "stdout",
          "text": [
            "..........\n"
          ]
        }
      ]
    },
    {
      "cell_type": "markdown",
      "source": [
        "# **Replace Substring in a String in Python**\n",
        "You can also replace a substring with another substring using the replace() method."
      ],
      "metadata": {
        "id": "GxosShnGNXwe"
      }
    },
    {
      "cell_type": "code",
      "source": [
        "word = \"Hello World\"\n",
        "\n",
        "print(word.replace(\"Hello\", \"Goodbye\"))"
      ],
      "metadata": {
        "colab": {
          "base_uri": "https://localhost:8080/"
        },
        "id": "vFbNJQI2NdLx",
        "outputId": "31daf299-4bf0-453c-ea47-b1a80f5ee65a"
      },
      "execution_count": 13,
      "outputs": [
        {
          "output_type": "stream",
          "name": "stdout",
          "text": [
            "Goodbye World\n"
          ]
        }
      ]
    },
    {
      "cell_type": "markdown",
      "source": [
        "# **Changing Upper and Lower Case Strings**\n",
        "You can convert string into uppercase, lowercase, and titlecase using the upper(), lower(), and title() method.You can also capitalize a string or swap the capitalization of the characters in the string using the capitalize() and the swapcase() method.\n",
        "\n",
        "The capitalize() method, when invoked on a string, capitalizes the first character of the string and returns the modified string."
      ],
      "metadata": {
        "id": "AVivtLLbNn2l"
      }
    },
    {
      "cell_type": "code",
      "source": [
        "string = \"Hello World\"\n",
        "\n",
        "print (string.upper())\n",
        "print (string.lower())\n",
        "print (string.title())\n",
        "print (string.capitalize())\n",
        "print (string.swapcase())"
      ],
      "metadata": {
        "colab": {
          "base_uri": "https://localhost:8080/"
        },
        "id": "amFkiJdaNtDT",
        "outputId": "b66e98ea-680e-47f7-af30-3b1c5fabe5be"
      },
      "execution_count": 14,
      "outputs": [
        {
          "output_type": "stream",
          "name": "stdout",
          "text": [
            "HELLO WORLD\n",
            "hello world\n",
            "Hello World\n",
            "Hello world\n",
            "hELLO wORLD\n"
          ]
        }
      ]
    },
    {
      "cell_type": "markdown",
      "source": [
        "# **Reverse a String in Python**\n",
        "To reverse a string, you can use the reversed() function and the join() method.\n",
        "\n"
      ],
      "metadata": {
        "id": "UGn_OwQuO1dN"
      }
    },
    {
      "cell_type": "code",
      "source": [
        "string = \"Hello World\"\n",
        "print(''.join(reversed(string)))"
      ],
      "metadata": {
        "colab": {
          "base_uri": "https://localhost:8080/"
        },
        "id": "qw68Cc2YPHxa",
        "outputId": "53b7616f-4d0b-48bc-9a7c-fbcf6db3fce3"
      },
      "execution_count": 17,
      "outputs": [
        {
          "output_type": "stream",
          "name": "stdout",
          "text": [
            "dlroW olleH\n"
          ]
        }
      ]
    },
    {
      "cell_type": "markdown",
      "source": [
        "# **Strip a String in Python**\n",
        "The strip() method when invoked on a string, takes a character as its input argument and removes the character from start (left) and end(right) of the string. If the characters to be removed are not specified then white-space characters will be removed.\n",
        "\n",
        "The lstrip() method when invoked on a string, takes a character as its input argument and removes the character from start (left) of the string.\n",
        "\n",
        "The rstrip() method when invoked on a string, takes a character as its input argument and removes the character from the end(right) of the string."
      ],
      "metadata": {
        "id": "hP2fbeDmPr51"
      }
    },
    {
      "cell_type": "code",
      "source": [
        "word = \" xyz \"\n",
        "print (word)\n",
        "\n",
        "print (word.strip())\n",
        "print (word.lstrip())\n",
        "print (word.rstrip())"
      ],
      "metadata": {
        "colab": {
          "base_uri": "https://localhost:8080/"
        },
        "id": "SBLdWbVjP_lW",
        "outputId": "4b8796d2-6f3d-4646-aff6-8d2618529201"
      },
      "execution_count": 21,
      "outputs": [
        {
          "output_type": "stream",
          "name": "stdout",
          "text": [
            " xyz \n",
            "xyz\n",
            "xyz \n",
            " xyz\n"
          ]
        }
      ]
    },
    {
      "cell_type": "markdown",
      "source": [
        "# **Concatenate Strings in Python**\n",
        "To concatenate strings in Python use the “+” operator as shown below."
      ],
      "metadata": {
        "id": "vHBcWKIERfIV"
      }
    },
    {
      "cell_type": "code",
      "source": [
        "print(\"Hello \" + \"World\")"
      ],
      "metadata": {
        "colab": {
          "base_uri": "https://localhost:8080/"
        },
        "id": "cqkfOyNsRj_5",
        "outputId": "c9739da3-caa0-4d13-dc24-0c62a7c55213"
      },
      "execution_count": 22,
      "outputs": [
        {
          "output_type": "stream",
          "name": "stdout",
          "text": [
            "Hello World\n"
          ]
        }
      ]
    },
    {
      "cell_type": "markdown",
      "source": [
        "# **Testing**\n",
        "The return type will be in Boolean value (True or False)"
      ],
      "metadata": {
        "id": "Qe4z4SqYR_I2"
      }
    },
    {
      "cell_type": "code",
      "source": [
        "word = \"Hello World\"\n",
        "\n",
        "print(word.isalnum()) #check if all char are alphanumeric \n",
        "print(word.isalpha()) #check if all char in the string are alphabetic\n",
        "print(word.isdigit()) #test if string contains digits\n",
        "print(word.istitle()) #test if string contains title words\n",
        "print(word.isupper()) #test if string contains upper case\n",
        "print(word.islower()) #test if string contains lower case\n",
        "print(word.isspace()) #test if string contains spaces\n",
        "print(word.endswith('d')) #test if string endswith a d\n",
        "print(word.startswith('H')) #test if string startswith H\n",
        "print(word.isidentifier())\n",
        "text = '' # notice this is an empty string, there is no white space here\n",
        "print(text.isprintable())\n",
        "text = 'This is a regular text'\n",
        "print(text.isprintable())\n",
        "text = ' ' #one space\n",
        "print(text.isprintable())\n",
        "text = '                        '  #many spaces\n",
        "print(text.isprintable())\n",
        "text = '\\f\\n\\r\\t\\v'\n",
        "print(text.isprintable())"
      ],
      "metadata": {
        "colab": {
          "base_uri": "https://localhost:8080/"
        },
        "id": "40q_Q-O5SEu5",
        "outputId": "b121b17f-54d8-417f-9d51-509109c09bae"
      },
      "execution_count": 26,
      "outputs": [
        {
          "output_type": "stream",
          "name": "stdout",
          "text": [
            "False\n",
            "False\n",
            "False\n",
            "True\n",
            "False\n",
            "False\n",
            "False\n",
            "True\n",
            "True\n",
            "False\n",
            "True\n",
            "True\n",
            "True\n",
            "True\n",
            "False\n"
          ]
        }
      ]
    },
    {
      "cell_type": "code",
      "source": [
        "# Check if position 5 to 11 ends with the phrase \"my world.\"\n",
        "\n",
        "txt = \"Hello, welcome to my world.\"\n",
        "x = txt.endswith(\"my world.\", 5, 11)\n",
        "print(x)"
      ],
      "metadata": {
        "colab": {
          "base_uri": "https://localhost:8080/"
        },
        "id": "eRSQCVctfQMj",
        "outputId": "9005388a-9b9d-4488-b7b9-f2c1d4e9c45d"
      },
      "execution_count": 38,
      "outputs": [
        {
          "output_type": "stream",
          "name": "stdout",
          "text": [
            "False\n"
          ]
        }
      ]
    },
    {
      "cell_type": "code",
      "source": [
        "# Where in the text is the first occurrence of the letter \"e\" when you only search between position 5 and 10?\n",
        "\n",
        "txt = \"Hello, welcome to my world.\"\n",
        "x = txt.find(\"e\", 5, 10)\n",
        "print(x)"
      ],
      "metadata": {
        "colab": {
          "base_uri": "https://localhost:8080/"
        },
        "id": "BCHZLx9ffYqb",
        "outputId": "54401818-93bd-4723-b25d-12c14b08b838"
      },
      "execution_count": 39,
      "outputs": [
        {
          "output_type": "stream",
          "name": "stdout",
          "text": [
            "8\n"
          ]
        }
      ]
    },
    {
      "cell_type": "markdown",
      "source": [
        "The ljust() also accepts a specific char as a parameter to fill the remaining space."
      ],
      "metadata": {
        "id": "6BwRVFuAZLQM"
      }
    },
    {
      "cell_type": "code",
      "source": [
        "word = 'beach'\n",
        "number_chars = 32\n",
        "char = '$'\n",
        "\n",
        "word_justified = word.ljust(number_chars, char)\n",
        "print(word_justified)"
      ],
      "metadata": {
        "colab": {
          "base_uri": "https://localhost:8080/"
        },
        "id": "ylJkTonfZMPj",
        "outputId": "d45de5b3-bfd2-4890-b45e-9b526719a252"
      },
      "execution_count": 25,
      "outputs": [
        {
          "output_type": "stream",
          "name": "stdout",
          "text": [
            "beach$$$$$$$$$$$$$$$$$$$$$$$$$$$\n"
          ]
        }
      ]
    },
    {
      "cell_type": "markdown",
      "source": [
        "How to Split a String at Line Breaks in Python"
      ],
      "metadata": {
        "id": "YRkb89dMbUuR"
      }
    },
    {
      "cell_type": "code",
      "source": [
        "my_string = 'world \\n cup'\n",
        "\n",
        "print(my_string.splitlines())"
      ],
      "metadata": {
        "colab": {
          "base_uri": "https://localhost:8080/"
        },
        "id": "6aigu2bbbX42",
        "outputId": "c84531f4-ee40-49f1-b456-487b1cf923e1"
      },
      "execution_count": 27,
      "outputs": [
        {
          "output_type": "stream",
          "name": "stdout",
          "text": [
            "['world ', ' cup']\n"
          ]
        }
      ]
    },
    {
      "cell_type": "code",
      "source": [
        "# The partition() method searches for a specified string, and splits the string into a tuple containing three elements.\n",
        "#The first element contains the part before the specified string.\n",
        "#The second element contains the specified string.\n",
        "#The third element contains the part after the string.\n",
        "\n",
        "txt = \"I could eat bananas all day\"\n",
        "x = txt.partition(\"bananas\")\n",
        "print(x)\n",
        "     "
      ],
      "metadata": {
        "colab": {
          "base_uri": "https://localhost:8080/"
        },
        "id": "wGk7uPeHbcih",
        "outputId": "b1d866f5-15b0-4991-81cf-246f60326f29"
      },
      "execution_count": 28,
      "outputs": [
        {
          "output_type": "stream",
          "name": "stdout",
          "text": [
            "('I could eat ', 'bananas', ' all day')\n"
          ]
        }
      ]
    },
    {
      "cell_type": "code",
      "source": [
        "# The rfind() method finds the last occurrence of the specified value.\n",
        "\n",
        "txt = \"Hello, welcome to my world.\"\n",
        "x = txt.rfind(\"e\")\n",
        "print(x)"
      ],
      "metadata": {
        "colab": {
          "base_uri": "https://localhost:8080/"
        },
        "id": "hzqkllU7c_bV",
        "outputId": "e25c0d48-e733-420b-c449-c370c50f5a2d"
      },
      "execution_count": 29,
      "outputs": [
        {
          "output_type": "stream",
          "name": "stdout",
          "text": [
            "13\n"
          ]
        }
      ]
    },
    {
      "cell_type": "code",
      "source": [
        "# The zfill() method adds zeros (0) at the beginning of the string, until it reaches the specified length.\n",
        "\n",
        "txt = \"50\"\n",
        "x = txt.zfill(10) #length\n",
        "print(x)"
      ],
      "metadata": {
        "colab": {
          "base_uri": "https://localhost:8080/"
        },
        "id": "d7ESsRUldJwC",
        "outputId": "8343b7e5-a7ac-4192-ed36-65a004312d5c"
      },
      "execution_count": 30,
      "outputs": [
        {
          "output_type": "stream",
          "name": "stdout",
          "text": [
            "0000000050\n"
          ]
        }
      ]
    },
    {
      "cell_type": "code",
      "source": [
        "# Python String casefold() Method\n",
        "\n",
        "txt = \"Hello, And Welcome To My World!\"\n",
        "x = txt.casefold()\n",
        "print(x)"
      ],
      "metadata": {
        "colab": {
          "base_uri": "https://localhost:8080/"
        },
        "id": "CIk9aV_7dNVu",
        "outputId": "8a097e30-9759-47aa-9308-47c5ac610f4a"
      },
      "execution_count": 31,
      "outputs": [
        {
          "output_type": "stream",
          "name": "stdout",
          "text": [
            "hello, and welcome to my world!\n"
          ]
        }
      ]
    },
    {
      "cell_type": "code",
      "source": [
        "# The center() method will center align the string, using a specified character (space is default) as the fill character.\n",
        "# string.center(length, character)\n",
        "# length\tRequired. - The length of the returned string\n",
        "#character\tOptional. - The character to fill the missing space on each side. Default is \" \" (space)\n",
        "\n",
        "txt = \"banana\"\n",
        "x = txt.center(20)\n",
        "print(x)"
      ],
      "metadata": {
        "colab": {
          "base_uri": "https://localhost:8080/"
        },
        "id": "h53Oun1-daTw",
        "outputId": "65d243c7-b6fa-4f9d-8660-e62b941d0481"
      },
      "execution_count": 32,
      "outputs": [
        {
          "output_type": "stream",
          "name": "stdout",
          "text": [
            "       banana       \n"
          ]
        }
      ]
    },
    {
      "cell_type": "code",
      "source": [
        "# Using the letter \"O\" as the padding character\n",
        "txt = \"banana\"\n",
        "x = txt.center(20, \"O\")\n",
        "print(x)"
      ],
      "metadata": {
        "colab": {
          "base_uri": "https://localhost:8080/"
        },
        "id": "kogZYxp6dvdf",
        "outputId": "c9986a65-9431-4555-a977-86616eea16d5"
      },
      "execution_count": 33,
      "outputs": [
        {
          "output_type": "stream",
          "name": "stdout",
          "text": [
            "OOOOOOObananaOOOOOOO\n"
          ]
        }
      ]
    },
    {
      "cell_type": "code",
      "source": [
        "# The expandtabs() method sets the tab size to the specified number of whitespaces.\n",
        "\n",
        "txt = \"H\\te\\tl\\tl\\to\"\n",
        "x =  txt.expandtabs(2)\n",
        "print(x)"
      ],
      "metadata": {
        "colab": {
          "base_uri": "https://localhost:8080/"
        },
        "id": "BnOYT7m_dyJN",
        "outputId": "0681a15e-55d2-479b-afe7-1c22b5975a31"
      },
      "execution_count": 34,
      "outputs": [
        {
          "output_type": "stream",
          "name": "stdout",
          "text": [
            "H e l l o\n"
          ]
        }
      ]
    },
    {
      "cell_type": "code",
      "source": [
        "# Upper case the first letter in this sentence\n",
        "\n",
        "txt = \"hello, and welcome to my world.\"\n",
        "x = txt.capitalize()\n",
        "print (x)"
      ],
      "metadata": {
        "colab": {
          "base_uri": "https://localhost:8080/"
        },
        "id": "7HH513_we4WO",
        "outputId": "22296eda-8100-4465-d67a-45a39cab542c"
      },
      "execution_count": 35,
      "outputs": [
        {
          "output_type": "stream",
          "name": "stdout",
          "text": [
            "Hello, and welcome to my world.\n"
          ]
        }
      ]
    },
    {
      "cell_type": "code",
      "source": [
        "#  if the first character is a number\n",
        "\n",
        "txt = \"36 is my age.\"\n",
        "x = txt.capitalize()\n",
        "print (x)\n",
        "     "
      ],
      "metadata": {
        "colab": {
          "base_uri": "https://localhost:8080/"
        },
        "id": "E3M7nfYje5Bu",
        "outputId": "a0f6e969-adf2-4596-bd45-ab7b05ed38b0"
      },
      "execution_count": 36,
      "outputs": [
        {
          "output_type": "stream",
          "name": "stdout",
          "text": [
            "36 is my age.\n"
          ]
        }
      ]
    },
    {
      "cell_type": "code",
      "source": [
        "# Python String casefold() Method\n",
        "\n",
        "txt = \"Hello, And Welcome To My World!\"\n",
        "x = txt.casefold()\n",
        "print(x)"
      ],
      "metadata": {
        "colab": {
          "base_uri": "https://localhost:8080/"
        },
        "id": "osL8ZkYRe8LW",
        "outputId": "240b3717-6f5c-452b-b58e-35db0d96d3f1"
      },
      "execution_count": 37,
      "outputs": [
        {
          "output_type": "stream",
          "name": "stdout",
          "text": [
            "hello, and welcome to my world!\n"
          ]
        }
      ]
    }
  ]
}