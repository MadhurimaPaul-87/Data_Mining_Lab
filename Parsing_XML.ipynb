{
  "nbformat": 4,
  "nbformat_minor": 0,
  "metadata": {
    "colab": {
      "provenance": []
    },
    "kernelspec": {
      "name": "python3",
      "display_name": "Python 3"
    },
    "language_info": {
      "name": "python"
    }
  },
  "cells": [
    {
      "cell_type": "markdown",
      "source": [
        "# **Parsing eXtensible Markup Language (XML)**"
      ],
      "metadata": {
        "id": "342Za1dtGdf_"
      }
    },
    {
      "cell_type": "markdown",
      "source": [
        "**Example**"
      ],
      "metadata": {
        "id": "aVvLXpc8G3K9"
      }
    },
    {
      "cell_type": "code",
      "execution_count": null,
      "metadata": {
        "id": "wiCJxFYNEUEh"
      },
      "outputs": [],
      "source": [
        "<person>\n",
        "    <name> Mahesh </name>\n",
        "    <phone> +91 998989899 </phone>\n",
        "    <email/>\n",
        "</person>"
      ]
    },
    {
      "cell_type": "markdown",
      "source": [
        "**Another example**"
      ],
      "metadata": {
        "id": "myxbU9exIPS_"
      }
    },
    {
      "cell_type": "markdown",
      "source": [
        "**Parsing XML using xml.etree.ElementTree**"
      ],
      "metadata": {
        "id": "NMWfIHAWMDcO"
      }
    },
    {
      "cell_type": "code",
      "source": [
        "import xml.etree.ElementTree as ET\n",
        "\n",
        "data = '''\n",
        "<person>\n",
        "    <name> Mahesh </name>\n",
        "    <phone type= \"mobile\">+91 998989899</phone>\n",
        "    <email hide =\"yes\"/>\n",
        "</person>'''\n",
        "\n",
        "tree = ET.fromstring(data)\n",
        "print(\"Name :\",tree.find(\"name\").text)\n",
        "print(\"Phone :\",tree.find(\"phone\").text)\n",
        "print(\"Email :\",tree.find(\"email\").text)\n",
        "print(\"Attr :\",tree.find(\"phone\").get(\"type\"))\n",
        "print(\"Attr :\",tree.find(\"email\").get(\"hide\"))"
      ],
      "metadata": {
        "colab": {
          "base_uri": "https://localhost:8080/"
        },
        "id": "oGwHdfsFMaFi",
        "outputId": "cbd6a161-3ef0-4aa3-dfa0-f20d908f1ce5"
      },
      "execution_count": 18,
      "outputs": [
        {
          "output_type": "stream",
          "name": "stdout",
          "text": [
            "Name :  Mahesh \n",
            "Phone : +91 998989899\n",
            "Email : None\n",
            "Attr : mobile\n",
            "Attr : yes\n"
          ]
        }
      ]
    },
    {
      "cell_type": "markdown",
      "source": [
        "**In this example multiple person information is stored**"
      ],
      "metadata": {
        "id": "NzqgasIOJJzl"
      }
    },
    {
      "cell_type": "code",
      "source": [
        "import xml.etree.ElementTree as ET\n",
        "\n",
        "input = '''\n",
        "\n",
        "<persons>\n",
        "    <person>\n",
        "        <name> Mahesh </name>\n",
        "        <phone type=\"mobile\"> +91 998989899</phone>\n",
        "        <email hide=\"yes\"/>\n",
        "    </person>\n",
        "    <person>\n",
        "        <name> Rahul </name>\n",
        "        <phone type=\"landline\">+91 798889896</phone>\n",
        "        <email hide=\"no\">xyz@gmail.com</email>\n",
        "    </person>\n",
        "</persons>'''\n",
        "\n",
        "persons = ET.fromstring(input)\n",
        "lst = persons.findall(\"person\")\n",
        "print(\"User count :\",len(lst))\n",
        "for p in lst:\n",
        "  print(\"---------------------------\")\n",
        "  print('Name: ',p.find(\"name\").text)\n",
        "  print('Phone: ',p.find(\"phone\").text)\n",
        "  print('Email: ',p.find(\"email\").text)\n",
        "  print('Attr: ',p.find(\"phone\").get(\"type\"))\n",
        "  print('Attr: ',p.find(\"email\").get(\"hide\"))"
      ],
      "metadata": {
        "colab": {
          "base_uri": "https://localhost:8080/"
        },
        "id": "pugiJvY8JVYt",
        "outputId": "9ad6c7b6-5d0e-47e7-e7d2-ea16259decd6"
      },
      "execution_count": 25,
      "outputs": [
        {
          "output_type": "stream",
          "name": "stdout",
          "text": [
            "User count : 2\n",
            "---------------------------\n",
            "Name:   Mahesh \n",
            "Phone:   +91 998989899\n",
            "Email:  None\n",
            "Attr:  mobile\n",
            "Attr:  yes\n",
            "---------------------------\n",
            "Name:   Rahul \n",
            "Phone:  +91 798889896\n",
            "Email:  xyz@gmail.com\n",
            "Attr:  landline\n",
            "Attr:  no\n"
          ]
        }
      ]
    }
  ]
}