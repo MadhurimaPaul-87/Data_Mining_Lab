{
  "nbformat": 4,
  "nbformat_minor": 0,
  "metadata": {
    "colab": {
      "provenance": []
    },
    "kernelspec": {
      "name": "python3",
      "display_name": "Python 3"
    },
    "language_info": {
      "name": "python"
    }
  },
  "cells": [
    {
      "cell_type": "markdown",
      "source": [
        "# **Parsing HTML with BeautifulSoup**"
      ],
      "metadata": {
        "id": "iR2vDxFyrDTS"
      }
    },
    {
      "cell_type": "markdown",
      "source": [
        "**Import Libraries**"
      ],
      "metadata": {
        "id": "9OzNMgZerYjZ"
      }
    },
    {
      "cell_type": "code",
      "execution_count": 1,
      "metadata": {
        "id": "paQgz7gEXQRG"
      },
      "outputs": [],
      "source": [
        "import urllib.request\n",
        "from bs4 import BeautifulSoup"
      ]
    },
    {
      "cell_type": "markdown",
      "source": [
        "* Beautiful Soup(bs4) is a Python library for pulling data out of HTML and XML files.\n",
        "* urllib is a package that collects several modules for working with URLs."
      ],
      "metadata": {
        "id": "7kDUHP-rryA5"
      }
    },
    {
      "cell_type": "code",
      "source": [
        "url = \"https://docs.python.org/3/\"\n",
        "html = urllib.request.urlopen(url) # this function forwards the requests to the server for opening the url.\n",
        "# parsing the html file\n",
        "soup = BeautifulSoup(html, 'html.parser')\n",
        "print(soup)"
      ],
      "metadata": {
        "colab": {
          "base_uri": "https://localhost:8080/"
        },
        "id": "O_r5DlheroZo",
        "outputId": "ba942fc5-d1c0-4a9a-e429-2a477cfed2c0"
      },
      "execution_count": 40,
      "outputs": [
        {
          "output_type": "stream",
          "name": "stdout",
          "text": [
            "\n",
            "<!DOCTYPE html>\n",
            "\n",
            "<html>\n",
            "<head>\n",
            "<meta charset=\"utf-8\"/>\n",
            "<meta content=\"width=device-width, initial-scale=1.0\" name=\"viewport\"/><title>3.11.4 Documentation</title><meta content=\"width=device-width, initial-scale=1.0\" name=\"viewport\"/>\n",
            "<link href=\"_static/pygments.css\" rel=\"stylesheet\" type=\"text/css\"/>\n",
            "<link href=\"_static/pydoctheme.css?digest=2d3badd06fe70b34b68db01f99471ce1624ffe4a\" rel=\"stylesheet\" type=\"text/css\"/>\n",
            "<script data-url_root=\"./\" id=\"documentation_options\" src=\"_static/documentation_options.js\"></script>\n",
            "<script src=\"_static/jquery.js\"></script>\n",
            "<script src=\"_static/underscore.js\"></script>\n",
            "<script src=\"_static/doctools.js\"></script>\n",
            "<script src=\"_static/sidebar.js\"></script>\n",
            "<link href=\"_static/opensearch.xml\" rel=\"search\" title=\"Search within Python 3.11.4 documentation\" type=\"application/opensearchdescription+xml\"/>\n",
            "<link href=\"about.html\" rel=\"author\" title=\"About these documents\"/>\n",
            "<link href=\"genindex.html\" rel=\"index\" title=\"Index\"/>\n",
            "<link href=\"search.html\" rel=\"search\" title=\"Search\"/>\n",
            "<link href=\"copyright.html\" rel=\"copyright\" title=\"Copyright\"/>\n",
            "<link href=\"https://docs.python.org/3/index.html\" rel=\"canonical\"/>\n",
            "<style>\n",
            "      @media only screen {\n",
            "        table.full-width-table {\n",
            "            width: 100%;\n",
            "        }\n",
            "      }\n",
            "    </style>\n",
            "<link href=\"_static/py.svg\" rel=\"shortcut icon\" type=\"image/png\"/>\n",
            "<script src=\"_static/copybutton.js\" type=\"text/javascript\"></script>\n",
            "<script src=\"_static/menu.js\" type=\"text/javascript\"></script>\n",
            "</head>\n",
            "<body>\n",
            "<div class=\"mobile-nav\">\n",
            "<input aria-controls=\"navigation\" aria-expanded=\"false\" aria-label=\"Menu\" aria-pressed=\"false\" class=\"toggler__input\" id=\"menuToggler\" role=\"button\" type=\"checkbox\"/>\n",
            "<label class=\"toggler__label\" for=\"menuToggler\">\n",
            "<span></span>\n",
            "</label>\n",
            "<nav class=\"nav-content\" role=\"navigation\">\n",
            "<a class=\"nav-logo\" href=\"https://www.python.org/\">\n",
            "<img alt=\"Logo\" src=\"_static/py.svg\"/>\n",
            "</a>\n",
            "<div class=\"version_switcher_placeholder\"></div>\n",
            "<form action=\"search.html\" class=\"search\" method=\"get\" role=\"search\">\n",
            "<svg class=\"search-icon\" height=\"20\" viewbox=\"0 0 24 24\" width=\"20\" xmlns=\"http://www.w3.org/2000/svg\">\n",
            "<path d=\"M15.5 14h-.79l-.28-.27a6.5 6.5 0 001.48-5.34c-.47-2.78-2.79-5-5.59-5.34a6.505 6.505 0 00-7.27 7.27c.34 2.8 2.56 5.12 5.34 5.59a6.5 6.5 0 005.34-1.48l.27.28v.79l4.25 4.25c.41.41 1.08.41 1.49 0 .41-.41.41-1.08 0-1.49L15.5 14zm-6 0C7.01 14 5 11.99 5 9.5S7.01 5 9.5 5 14 7.01 14 9.5 11.99 14 9.5 14z\" fill=\"#444\" fill-rule=\"nonzero\"></path>\n",
            "</svg>\n",
            "<input aria-label=\"Quick search\" name=\"q\" type=\"text\"/>\n",
            "<input type=\"submit\" value=\"Go\"/>\n",
            "</form>\n",
            "</nav>\n",
            "<div class=\"menu-wrapper\">\n",
            "<nav aria-label=\"main navigation\" class=\"menu\" role=\"navigation\">\n",
            "<div class=\"language_switcher_placeholder\"></div>\n",
            "<h3>Download</h3>\n",
            "<p><a href=\"download.html\">Download these documents</a></p>\n",
            "<h3>Docs by version</h3>\n",
            "<ul>\n",
            "<li><a href=\"https://docs.python.org/3.13/\">Python 3.13 (in development)</a></li>\n",
            "<li><a href=\"https://docs.python.org/3.12/\">Python 3.12 (pre-release)</a></li>\n",
            "<li><a href=\"https://docs.python.org/3.11/\">Python 3.11 (stable)</a></li>\n",
            "<li><a href=\"https://docs.python.org/3.10/\">Python 3.10 (security-fixes)</a></li>\n",
            "<li><a href=\"https://docs.python.org/3.9/\">Python 3.9 (security-fixes)</a></li>\n",
            "<li><a href=\"https://docs.python.org/3.8/\">Python 3.8 (security-fixes)</a></li>\n",
            "<li><a href=\"https://docs.python.org/3.7/\">Python 3.7 (security-fixes)</a></li>\n",
            "<li><a href=\"https://docs.python.org/3.6/\">Python 3.6 (EOL)</a></li>\n",
            "<li><a href=\"https://docs.python.org/3.5/\">Python 3.5 (EOL)</a></li>\n",
            "<li><a href=\"https://docs.python.org/2.7/\">Python 2.7 (EOL)</a></li>\n",
            "<li><a href=\"https://www.python.org/doc/versions/\">All versions</a></li>\n",
            "</ul>\n",
            "<h3>Other resources</h3>\n",
            "<ul>\n",
            "<li><a href=\"https://www.python.org/dev/peps/\">PEP Index</a></li>\n",
            "<li><a href=\"https://wiki.python.org/moin/BeginnersGuide\">Beginner's Guide</a></li>\n",
            "<li><a href=\"https://wiki.python.org/moin/PythonBooks\">Book List</a></li>\n",
            "<li><a href=\"https://www.python.org/doc/av/\">Audio/Visual Talks</a></li>\n",
            "<li><a href=\"https://devguide.python.org/\">Python Developer’s Guide</a></li>\n",
            "</ul>\n",
            "</nav>\n",
            "</div>\n",
            "</div>\n",
            "<div aria-label=\"related navigation\" class=\"related\" role=\"navigation\">\n",
            "<h3>Navigation</h3>\n",
            "<ul>\n",
            "<li class=\"right\" style=\"margin-right: 10px\">\n",
            "<a accesskey=\"I\" href=\"genindex.html\" title=\"General Index\">index</a></li>\n",
            "<li class=\"right\">\n",
            "<a href=\"py-modindex.html\" title=\"Python Module Index\">modules</a> |</li>\n",
            "<li><img alt=\"python logo\" src=\"_static/py.svg\" style=\"vertical-align: middle; margin-top: -1px\"/></li>\n",
            "<li><a href=\"https://www.python.org/\">Python</a> »</li>\n",
            "<li class=\"switchers\">\n",
            "<div class=\"language_switcher_placeholder\"></div>\n",
            "<div class=\"version_switcher_placeholder\"></div>\n",
            "</li>\n",
            "<li>\n",
            "</li>\n",
            "<li id=\"cpython-language-and-version\">\n",
            "<a href=\"#\">3.11.4 Documentation</a> »\n",
            "    </li>\n",
            "<li class=\"nav-item nav-item-this\"><a href=\"\"></a></li>\n",
            "<li class=\"right\">\n",
            "<div class=\"inline-search\" role=\"search\">\n",
            "<form action=\"search.html\" class=\"inline-search\" method=\"get\">\n",
            "<input aria-label=\"Quick search\" name=\"q\" placeholder=\"Quick search\" type=\"text\"/>\n",
            "<input type=\"submit\" value=\"Go\"/>\n",
            "<input name=\"check_keywords\" type=\"hidden\" value=\"yes\"/>\n",
            "<input name=\"area\" type=\"hidden\" value=\"default\"/>\n",
            "</form>\n",
            "</div>\n",
            "                     |\n",
            "                </li>\n",
            "</ul>\n",
            "</div>\n",
            "<div class=\"document\">\n",
            "<div class=\"documentwrapper\">\n",
            "<div class=\"bodywrapper\">\n",
            "<div class=\"body\" role=\"main\">\n",
            "<h1>Python 3.11.4 documentation</h1>\n",
            "<p>\n",
            "  Welcome! This is the official documentation for Python 3.11.4.\n",
            "  </p>\n",
            "<p><strong>Parts of the documentation:</strong></p>\n",
            "<table align=\"center\" class=\"contentstable\"><tr>\n",
            "<td width=\"50%\">\n",
            "<p class=\"biglink\"><a class=\"biglink\" href=\"whatsnew/3.11.html\">What's new in Python 3.11?</a><br/>\n",
            "<span class=\"linkdescr\"> or <a href=\"whatsnew/index.html\">all \"What's new\" documents</a> since 2.0</span></p>\n",
            "<p class=\"biglink\"><a class=\"biglink\" href=\"tutorial/index.html\">Tutorial</a><br/>\n",
            "<span class=\"linkdescr\">start here</span></p>\n",
            "<p class=\"biglink\"><a class=\"biglink\" href=\"library/index.html\">Library Reference</a><br/>\n",
            "<span class=\"linkdescr\">keep this under your pillow</span></p>\n",
            "<p class=\"biglink\"><a class=\"biglink\" href=\"reference/index.html\">Language Reference</a><br/>\n",
            "<span class=\"linkdescr\">describes syntax and language elements</span></p>\n",
            "<p class=\"biglink\"><a class=\"biglink\" href=\"using/index.html\">Python Setup and Usage</a><br/>\n",
            "<span class=\"linkdescr\">how to use Python on different platforms</span></p>\n",
            "<p class=\"biglink\"><a class=\"biglink\" href=\"howto/index.html\">Python HOWTOs</a><br/>\n",
            "<span class=\"linkdescr\">in-depth documents on specific topics</span></p>\n",
            "</td><td width=\"50%\">\n",
            "<p class=\"biglink\"><a class=\"biglink\" href=\"installing/index.html\">Installing Python Modules</a><br/>\n",
            "<span class=\"linkdescr\">installing from the Python Package Index &amp; other sources</span></p>\n",
            "<p class=\"biglink\"><a class=\"biglink\" href=\"distributing/index.html\">Distributing Python Modules</a><br/>\n",
            "<span class=\"linkdescr\">publishing modules for installation by others</span></p>\n",
            "<p class=\"biglink\"><a class=\"biglink\" href=\"extending/index.html\">Extending and Embedding</a><br/>\n",
            "<span class=\"linkdescr\">tutorial for C/C++ programmers</span></p>\n",
            "<p class=\"biglink\"><a class=\"biglink\" href=\"c-api/index.html\">Python/C API</a><br/>\n",
            "<span class=\"linkdescr\">reference for C/C++ programmers</span></p>\n",
            "<p class=\"biglink\"><a class=\"biglink\" href=\"faq/index.html\">FAQs</a><br/>\n",
            "<span class=\"linkdescr\">frequently asked questions (with answers!)</span></p>\n",
            "</td></tr>\n",
            "</table>\n",
            "<p><strong>Indices and tables:</strong></p>\n",
            "<table align=\"center\" class=\"contentstable\"><tr>\n",
            "<td width=\"50%\">\n",
            "<p class=\"biglink\"><a class=\"biglink\" href=\"py-modindex.html\">Global Module Index</a><br/>\n",
            "<span class=\"linkdescr\">quick access to all modules</span></p>\n",
            "<p class=\"biglink\"><a class=\"biglink\" href=\"genindex.html\">General Index</a><br/>\n",
            "<span class=\"linkdescr\">all functions, classes, terms</span></p>\n",
            "<p class=\"biglink\"><a class=\"biglink\" href=\"glossary.html\">Glossary</a><br/>\n",
            "<span class=\"linkdescr\">the most important terms explained</span></p>\n",
            "</td><td width=\"50%\">\n",
            "<p class=\"biglink\"><a class=\"biglink\" href=\"search.html\">Search page</a><br/>\n",
            "<span class=\"linkdescr\">search this documentation</span></p>\n",
            "<p class=\"biglink\"><a class=\"biglink\" href=\"contents.html\">Complete Table of Contents</a><br/>\n",
            "<span class=\"linkdescr\">lists all sections and subsections</span></p>\n",
            "</td></tr>\n",
            "</table>\n",
            "<p><strong>Meta information:</strong></p>\n",
            "<table align=\"center\" class=\"contentstable\"><tr>\n",
            "<td width=\"50%\">\n",
            "<p class=\"biglink\"><a class=\"biglink\" href=\"bugs.html\">Reporting bugs</a></p>\n",
            "<p class=\"biglink\"><a class=\"biglink\" href=\"https://devguide.python.org/docquality/#helping-with-documentation\">Contributing to Docs</a></p>\n",
            "<p class=\"biglink\"><a class=\"biglink\" href=\"about.html\">About the documentation</a></p>\n",
            "</td><td width=\"50%\">\n",
            "<p class=\"biglink\"><a class=\"biglink\" href=\"license.html\">History and License of Python</a></p>\n",
            "<p class=\"biglink\"><a class=\"biglink\" href=\"copyright.html\">Copyright</a></p>\n",
            "</td></tr>\n",
            "</table>\n",
            "<div class=\"clearer\"></div>\n",
            "</div>\n",
            "</div>\n",
            "</div>\n",
            "<div aria-label=\"main navigation\" class=\"sphinxsidebar\" role=\"navigation\">\n",
            "<div class=\"sphinxsidebarwrapper\">\n",
            "<h3>Download</h3>\n",
            "<p><a href=\"download.html\">Download these documents</a></p>\n",
            "<h3>Docs by version</h3>\n",
            "<ul>\n",
            "<li><a href=\"https://docs.python.org/3.13/\">Python 3.13 (in development)</a></li>\n",
            "<li><a href=\"https://docs.python.org/3.12/\">Python 3.12 (pre-release)</a></li>\n",
            "<li><a href=\"https://docs.python.org/3.11/\">Python 3.11 (stable)</a></li>\n",
            "<li><a href=\"https://docs.python.org/3.10/\">Python 3.10 (security-fixes)</a></li>\n",
            "<li><a href=\"https://docs.python.org/3.9/\">Python 3.9 (security-fixes)</a></li>\n",
            "<li><a href=\"https://docs.python.org/3.8/\">Python 3.8 (security-fixes)</a></li>\n",
            "<li><a href=\"https://docs.python.org/3.7/\">Python 3.7 (security-fixes)</a></li>\n",
            "<li><a href=\"https://docs.python.org/3.6/\">Python 3.6 (EOL)</a></li>\n",
            "<li><a href=\"https://docs.python.org/3.5/\">Python 3.5 (EOL)</a></li>\n",
            "<li><a href=\"https://docs.python.org/2.7/\">Python 2.7 (EOL)</a></li>\n",
            "<li><a href=\"https://www.python.org/doc/versions/\">All versions</a></li>\n",
            "</ul>\n",
            "<h3>Other resources</h3>\n",
            "<ul>\n",
            "<li><a href=\"https://www.python.org/dev/peps/\">PEP Index</a></li>\n",
            "<li><a href=\"https://wiki.python.org/moin/BeginnersGuide\">Beginner's Guide</a></li>\n",
            "<li><a href=\"https://wiki.python.org/moin/PythonBooks\">Book List</a></li>\n",
            "<li><a href=\"https://www.python.org/doc/av/\">Audio/Visual Talks</a></li>\n",
            "<li><a href=\"https://devguide.python.org/\">Python Developer’s Guide</a></li>\n",
            "</ul>\n",
            "</div>\n",
            "</div>\n",
            "<div class=\"clearer\"></div>\n",
            "</div>\n",
            "<div aria-label=\"related navigation\" class=\"related\" role=\"navigation\">\n",
            "<h3>Navigation</h3>\n",
            "<ul>\n",
            "<li class=\"right\" style=\"margin-right: 10px\">\n",
            "<a href=\"genindex.html\" title=\"General Index\">index</a></li>\n",
            "<li class=\"right\">\n",
            "<a href=\"py-modindex.html\" title=\"Python Module Index\">modules</a> |</li>\n",
            "<li><img alt=\"python logo\" src=\"_static/py.svg\" style=\"vertical-align: middle; margin-top: -1px\"/></li>\n",
            "<li><a href=\"https://www.python.org/\">Python</a> »</li>\n",
            "<li class=\"switchers\">\n",
            "<div class=\"language_switcher_placeholder\"></div>\n",
            "<div class=\"version_switcher_placeholder\"></div>\n",
            "</li>\n",
            "<li>\n",
            "</li>\n",
            "<li id=\"cpython-language-and-version\">\n",
            "<a href=\"#\">3.11.4 Documentation</a> »\n",
            "    </li>\n",
            "<li class=\"nav-item nav-item-this\"><a href=\"\"></a></li>\n",
            "<li class=\"right\">\n",
            "<div class=\"inline-search\" role=\"search\">\n",
            "<form action=\"search.html\" class=\"inline-search\" method=\"get\">\n",
            "<input aria-label=\"Quick search\" name=\"q\" placeholder=\"Quick search\" type=\"text\"/>\n",
            "<input type=\"submit\" value=\"Go\"/>\n",
            "<input name=\"check_keywords\" type=\"hidden\" value=\"yes\"/>\n",
            "<input name=\"area\" type=\"hidden\" value=\"default\"/>\n",
            "</form>\n",
            "</div>\n",
            "                     |\n",
            "                </li>\n",
            "</ul>\n",
            "</div>\n",
            "<div class=\"footer\">\n",
            "    © <a href=\"copyright.html\">Copyright</a> 2001-2023, Python Software Foundation.\n",
            "    <br/>\n",
            "    This page is licensed under the Python Software Foundation License Version 2.\n",
            "    <br/>\n",
            "    Examples, recipes, and other code in the documentation are additionally licensed under the Zero Clause BSD License.\n",
            "    <br/>\n",
            "    See <a href=\"/license.html\">History and License</a> for more information.<br/>\n",
            "<br/>\n",
            "\n",
            "    The Python Software Foundation is a non-profit corporation.\n",
            "<a href=\"https://www.python.org/psf/donations/\">Please donate.</a>\n",
            "<br/>\n",
            "<br/>\n",
            "\n",
            "    Last updated on Jun 16, 2023.\n",
            "    <a href=\"/bugs.html\">Found a bug</a>?\n",
            "    <br/>\n",
            "\n",
            "    Created using <a href=\"https://www.sphinx-doc.org/\">Sphinx</a> 4.5.0.\n",
            "    </div>\n",
            "<script src=\"_static/switchers.js\" type=\"text/javascript\"></script>\n",
            "</body>\n",
            "</html>\n"
          ]
        }
      ]
    },
    {
      "cell_type": "code",
      "source": [
        "print(\"Title tag name : \", soup.title.name)\n",
        "print(\"Title tag text : \", soup.title.text)"
      ],
      "metadata": {
        "colab": {
          "base_uri": "https://localhost:8080/"
        },
        "id": "_2euWWCs7iwC",
        "outputId": "d3b529ca-400c-4f90-a00f-36b830316c54"
      },
      "execution_count": 41,
      "outputs": [
        {
          "output_type": "stream",
          "name": "stdout",
          "text": [
            "Title tag name :  title\n",
            "Title tag text :  3.11.4 Documentation\n"
          ]
        }
      ]
    },
    {
      "cell_type": "code",
      "source": [
        "print(\"Title tag name : \", soup.h1.name)\n",
        "print(\"Title tag text : \", soup.h1.text)"
      ],
      "metadata": {
        "colab": {
          "base_uri": "https://localhost:8080/"
        },
        "id": "Gl6ODSOV80lJ",
        "outputId": "82218202-98c1-4e07-f407-0d8f8c143847"
      },
      "execution_count": 9,
      "outputs": [
        {
          "output_type": "stream",
          "name": "stdout",
          "text": [
            "Title tag name :  h1\n",
            "Title tag text :  Python 3.11.4 documentation\n"
          ]
        }
      ]
    },
    {
      "cell_type": "code",
      "source": [
        "print(\"Title tag name : \", soup.p.name)\n",
        "print(\"Title tag text : \", soup.p.text)"
      ],
      "metadata": {
        "colab": {
          "base_uri": "https://localhost:8080/"
        },
        "id": "Utvn5kjr9FFv",
        "outputId": "de423c6e-091b-4589-abf8-d9b8729c77d8"
      },
      "execution_count": 10,
      "outputs": [
        {
          "output_type": "stream",
          "name": "stdout",
          "text": [
            "Title tag name :  p\n",
            "Title tag text :  Download these documents\n"
          ]
        }
      ]
    },
    {
      "cell_type": "code",
      "source": [
        "url = \"https://docs.python.org/3/\"\n",
        "html = urllib.request.urlopen(url) # this function forwards the requests to the server for opening the url.\n",
        "# parsing the html file\n",
        "soup = BeautifulSoup(html, 'html.parser')\n",
        "#print(soup)\n",
        "data = soup.find_all(\"h3\")\n",
        "for d in data:\n",
        "  print(d.contents)\n"
      ],
      "metadata": {
        "colab": {
          "base_uri": "https://localhost:8080/"
        },
        "id": "0qnNnE_J-Ad2",
        "outputId": "49970835-6438-4997-cb7a-f1178f9e9315"
      },
      "execution_count": 38,
      "outputs": [
        {
          "output_type": "stream",
          "name": "stdout",
          "text": [
            "['Download']\n",
            "['Docs by version']\n",
            "['Other resources']\n",
            "['Navigation']\n",
            "['Download']\n",
            "['Docs by version']\n",
            "['Other resources']\n",
            "['Navigation']\n"
          ]
        }
      ]
    },
    {
      "cell_type": "code",
      "source": [
        "url = \"https://docs.python.org/3/\"\n",
        "html = urllib.request.urlopen(url) # this function forwards the requests to the server for opening the url.\n",
        "# parsing the html file\n",
        "soup = BeautifulSoup(html, 'html.parser')\n",
        "#print(soup)\n",
        "data = soup.find_all(\"p\")  #p- paragraph tag\n",
        "for d in data:\n",
        "  print(d.get_text())\n"
      ],
      "metadata": {
        "colab": {
          "base_uri": "https://localhost:8080/"
        },
        "id": "92gONslL-R15",
        "outputId": "6f82f1f2-117d-48ae-896e-684fd47bf6ae"
      },
      "execution_count": 39,
      "outputs": [
        {
          "output_type": "stream",
          "name": "stdout",
          "text": [
            "Download these documents\n",
            "\n",
            "  Welcome! This is the official documentation for Python 3.11.4.\n",
            "  \n",
            "Parts of the documentation:\n",
            "What's new in Python 3.11?\n",
            " or all \"What's new\" documents since 2.0\n",
            "Tutorial\n",
            "start here\n",
            "Library Reference\n",
            "keep this under your pillow\n",
            "Language Reference\n",
            "describes syntax and language elements\n",
            "Python Setup and Usage\n",
            "how to use Python on different platforms\n",
            "Python HOWTOs\n",
            "in-depth documents on specific topics\n",
            "Installing Python Modules\n",
            "installing from the Python Package Index & other sources\n",
            "Distributing Python Modules\n",
            "publishing modules for installation by others\n",
            "Extending and Embedding\n",
            "tutorial for C/C++ programmers\n",
            "Python/C API\n",
            "reference for C/C++ programmers\n",
            "FAQs\n",
            "frequently asked questions (with answers!)\n",
            "Indices and tables:\n",
            "Global Module Index\n",
            "quick access to all modules\n",
            "General Index\n",
            "all functions, classes, terms\n",
            "Glossary\n",
            "the most important terms explained\n",
            "Search page\n",
            "search this documentation\n",
            "Complete Table of Contents\n",
            "lists all sections and subsections\n",
            "Meta information:\n",
            "Reporting bugs\n",
            "Contributing to Docs\n",
            "About the documentation\n",
            "History and License of Python\n",
            "Copyright\n",
            "Download these documents\n"
          ]
        }
      ]
    }
  ]
}